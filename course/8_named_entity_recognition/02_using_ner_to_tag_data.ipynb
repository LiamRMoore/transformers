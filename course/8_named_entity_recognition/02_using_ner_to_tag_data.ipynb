{
 "cells": [
  {
   "cell_type": "markdown",
   "metadata": {},
   "source": [
    "# Using NER to Tag Data\n",
    "\n",
    "We are using the dataset pulled from */r/investing* and the SpaCy NER code covered in the previous sections."
   ]
  },
  {
   "cell_type": "code",
   "execution_count": 1,
   "metadata": {},
   "outputs": [],
   "source": [
    "import spacy\n",
    "import pandas as pd\n",
    "\n",
    "nlp = spacy.load('en_core_web_sm')"
   ]
  },
  {
   "cell_type": "markdown",
   "metadata": {},
   "source": [
    "The NER code will be reformated into a function that will consume a length of text, and return a list of mentioned organizations:"
   ]
  },
  {
   "cell_type": "code",
   "execution_count": 2,
   "metadata": {},
   "outputs": [],
   "source": [
    "def get_orgs(text):\n",
    "    # process the text with our SpaCy model to get named entities\n",
    "    doc = nlp(text)\n",
    "    # initialize list to store identified organizations\n",
    "    org_list = []\n",
    "    # loop through the identified entities and append ORG entities to org_list\n",
    "    for entity in doc.ents:\n",
    "        if entity.label_ == 'ORG':\n",
    "            org_list.append(entity.text)\n",
    "    # if organization is identified more than once it will appear multiple times in list\n",
    "    # we use set() to remove duplicates then convert back to list\n",
    "    org_list = list(set(org_list))\n",
    "    return org_list"
   ]
  },
  {
   "cell_type": "markdown",
   "metadata": {},
   "source": [
    "## Applying NER\n",
    "\n",
    "All we need to do now is load in the */r/investing* data and apply the `get_orgs` function to our text column to create a new `organizations` column.\n",
    "\n",
    "1. Load the data and view the top five rows with `df.head()`:"
   ]
  },
  {
   "cell_type": "code",
   "execution_count": 3,
   "metadata": {},
   "outputs": [
    {
     "data": {
      "text/html": [
       "<div>\n",
       "<style scoped>\n",
       "    .dataframe tbody tr th:only-of-type {\n",
       "        vertical-align: middle;\n",
       "    }\n",
       "\n",
       "    .dataframe tbody tr th {\n",
       "        vertical-align: top;\n",
       "    }\n",
       "\n",
       "    .dataframe thead th {\n",
       "        text-align: right;\n",
       "    }\n",
       "</style>\n",
       "<table border=\"1\" class=\"dataframe\">\n",
       "  <thead>\n",
       "    <tr style=\"text-align: right;\">\n",
       "      <th></th>\n",
       "      <th>id</th>\n",
       "      <th>created_utc</th>\n",
       "      <th>subreddit</th>\n",
       "      <th>title</th>\n",
       "      <th>selftext</th>\n",
       "      <th>upvote_ratio</th>\n",
       "      <th>ups</th>\n",
       "      <th>downs</th>\n",
       "      <th>score</th>\n",
       "    </tr>\n",
       "  </thead>\n",
       "  <tbody>\n",
       "    <tr>\n",
       "      <th>0</th>\n",
       "      <td>t3_wg6ntw</td>\n",
       "      <td>1.659633e+09</td>\n",
       "      <td>investing</td>\n",
       "      <td>Is this the end of the traditional stock market?</td>\n",
       "      <td>Please consider the following points from a pe...</td>\n",
       "      <td>0.37</td>\n",
       "      <td>0.0</td>\n",
       "      <td>0.0</td>\n",
       "      <td>0.0</td>\n",
       "    </tr>\n",
       "    <tr>\n",
       "      <th>1</th>\n",
       "      <td>t3_wg6bl9</td>\n",
       "      <td>1.659632e+09</td>\n",
       "      <td>investing</td>\n",
       "      <td>NERV is going nuts. Are my options worthless?</td>\n",
       "      <td>What happens to options when they are no longe...</td>\n",
       "      <td>0.50</td>\n",
       "      <td>0.0</td>\n",
       "      <td>0.0</td>\n",
       "      <td>0.0</td>\n",
       "    </tr>\n",
       "    <tr>\n",
       "      <th>2</th>\n",
       "      <td>t3_wg29p4</td>\n",
       "      <td>1.659622e+09</td>\n",
       "      <td>investing</td>\n",
       "      <td>Earnings boost Toronto stocks</td>\n",
       "      <td>[https://www.reuters.com/markets/stocks/tsx-fu...</td>\n",
       "      <td>0.81</td>\n",
       "      <td>82.0</td>\n",
       "      <td>0.0</td>\n",
       "      <td>82.0</td>\n",
       "    </tr>\n",
       "    <tr>\n",
       "      <th>3</th>\n",
       "      <td>t3_wg0os3</td>\n",
       "      <td>1.659618e+09</td>\n",
       "      <td>investing</td>\n",
       "      <td>Convertible bond and nuke</td>\n",
       "      <td>Can someone please explain to me what this “nu...</td>\n",
       "      <td>0.85</td>\n",
       "      <td>41.0</td>\n",
       "      <td>0.0</td>\n",
       "      <td>41.0</td>\n",
       "    </tr>\n",
       "    <tr>\n",
       "      <th>4</th>\n",
       "      <td>t3_wfw9yh</td>\n",
       "      <td>1.659604e+09</td>\n",
       "      <td>investing</td>\n",
       "      <td>Daily General Discussion and Advice Thread - A...</td>\n",
       "      <td>Have a general question?  Want to offer some c...</td>\n",
       "      <td>0.86</td>\n",
       "      <td>22.0</td>\n",
       "      <td>0.0</td>\n",
       "      <td>22.0</td>\n",
       "    </tr>\n",
       "  </tbody>\n",
       "</table>\n",
       "</div>"
      ],
      "text/plain": [
       "          id   created_utc  subreddit  \\\n",
       "0  t3_wg6ntw  1.659633e+09  investing   \n",
       "1  t3_wg6bl9  1.659632e+09  investing   \n",
       "2  t3_wg29p4  1.659622e+09  investing   \n",
       "3  t3_wg0os3  1.659618e+09  investing   \n",
       "4  t3_wfw9yh  1.659604e+09  investing   \n",
       "\n",
       "                                               title  \\\n",
       "0   Is this the end of the traditional stock market?   \n",
       "1      NERV is going nuts. Are my options worthless?   \n",
       "2                      Earnings boost Toronto stocks   \n",
       "3                          Convertible bond and nuke   \n",
       "4  Daily General Discussion and Advice Thread - A...   \n",
       "\n",
       "                                            selftext  upvote_ratio   ups  \\\n",
       "0  Please consider the following points from a pe...          0.37   0.0   \n",
       "1  What happens to options when they are no longe...          0.50   0.0   \n",
       "2  [https://www.reuters.com/markets/stocks/tsx-fu...          0.81  82.0   \n",
       "3  Can someone please explain to me what this “nu...          0.85  41.0   \n",
       "4  Have a general question?  Want to offer some c...          0.86  22.0   \n",
       "\n",
       "   downs  score  \n",
       "0    0.0    0.0  \n",
       "1    0.0    0.0  \n",
       "2    0.0   82.0  \n",
       "3    0.0   41.0  \n",
       "4    0.0   22.0  "
      ]
     },
     "execution_count": 3,
     "metadata": {},
     "output_type": "execute_result"
    }
   ],
   "source": [
    "df = pd.read_csv('./data/reddit_investing.csv', sep='|')\n",
    "df.head()"
   ]
  },
  {
   "cell_type": "markdown",
   "metadata": {},
   "source": [
    "2. Extract mentioned organizations from `selftext` and add to a new column called `organizations`:"
   ]
  },
  {
   "cell_type": "code",
   "execution_count": 4,
   "metadata": {},
   "outputs": [
    {
     "data": {
      "text/plain": [
       "0                                                     []\n",
       "1                          [Minerva Neurosciences, NERV]\n",
       "2      [Canadian Natural Resources, the Toronto Stock...\n",
       "3                                                     []\n",
       "4                                                  [FAQ]\n",
       "                             ...                        \n",
       "890                                               [XEQT]\n",
       "891                                           [treasury]\n",
       "892                                               [Ally]\n",
       "893                                                   []\n",
       "894                                             [Buffet]\n",
       "Name: selftext, Length: 895, dtype: object"
      ]
     },
     "execution_count": 4,
     "metadata": {},
     "output_type": "execute_result"
    }
   ],
   "source": [
    "df['selftext'].apply(get_orgs)"
   ]
  },
  {
   "cell_type": "code",
   "execution_count": 5,
   "metadata": {},
   "outputs": [
    {
     "data": {
      "text/html": [
       "<div>\n",
       "<style scoped>\n",
       "    .dataframe tbody tr th:only-of-type {\n",
       "        vertical-align: middle;\n",
       "    }\n",
       "\n",
       "    .dataframe tbody tr th {\n",
       "        vertical-align: top;\n",
       "    }\n",
       "\n",
       "    .dataframe thead th {\n",
       "        text-align: right;\n",
       "    }\n",
       "</style>\n",
       "<table border=\"1\" class=\"dataframe\">\n",
       "  <thead>\n",
       "    <tr style=\"text-align: right;\">\n",
       "      <th></th>\n",
       "      <th>id</th>\n",
       "      <th>created_utc</th>\n",
       "      <th>subreddit</th>\n",
       "      <th>title</th>\n",
       "      <th>selftext</th>\n",
       "      <th>upvote_ratio</th>\n",
       "      <th>ups</th>\n",
       "      <th>downs</th>\n",
       "      <th>score</th>\n",
       "      <th>organizations</th>\n",
       "    </tr>\n",
       "  </thead>\n",
       "  <tbody>\n",
       "    <tr>\n",
       "      <th>0</th>\n",
       "      <td>t3_wg6ntw</td>\n",
       "      <td>1.659633e+09</td>\n",
       "      <td>investing</td>\n",
       "      <td>Is this the end of the traditional stock market?</td>\n",
       "      <td>Please consider the following points from a pe...</td>\n",
       "      <td>0.37</td>\n",
       "      <td>0.0</td>\n",
       "      <td>0.0</td>\n",
       "      <td>0.0</td>\n",
       "      <td>[]</td>\n",
       "    </tr>\n",
       "    <tr>\n",
       "      <th>1</th>\n",
       "      <td>t3_wg6bl9</td>\n",
       "      <td>1.659632e+09</td>\n",
       "      <td>investing</td>\n",
       "      <td>NERV is going nuts. Are my options worthless?</td>\n",
       "      <td>What happens to options when they are no longe...</td>\n",
       "      <td>0.50</td>\n",
       "      <td>0.0</td>\n",
       "      <td>0.0</td>\n",
       "      <td>0.0</td>\n",
       "      <td>[Minerva Neurosciences, NERV]</td>\n",
       "    </tr>\n",
       "    <tr>\n",
       "      <th>2</th>\n",
       "      <td>t3_wg29p4</td>\n",
       "      <td>1.659622e+09</td>\n",
       "      <td>investing</td>\n",
       "      <td>Earnings boost Toronto stocks</td>\n",
       "      <td>[https://www.reuters.com/markets/stocks/tsx-fu...</td>\n",
       "      <td>0.81</td>\n",
       "      <td>82.0</td>\n",
       "      <td>0.0</td>\n",
       "      <td>82.0</td>\n",
       "      <td>[Canadian Natural Resources, the Toronto Stock...</td>\n",
       "    </tr>\n",
       "    <tr>\n",
       "      <th>3</th>\n",
       "      <td>t3_wg0os3</td>\n",
       "      <td>1.659618e+09</td>\n",
       "      <td>investing</td>\n",
       "      <td>Convertible bond and nuke</td>\n",
       "      <td>Can someone please explain to me what this “nu...</td>\n",
       "      <td>0.85</td>\n",
       "      <td>41.0</td>\n",
       "      <td>0.0</td>\n",
       "      <td>41.0</td>\n",
       "      <td>[]</td>\n",
       "    </tr>\n",
       "    <tr>\n",
       "      <th>4</th>\n",
       "      <td>t3_wfw9yh</td>\n",
       "      <td>1.659604e+09</td>\n",
       "      <td>investing</td>\n",
       "      <td>Daily General Discussion and Advice Thread - A...</td>\n",
       "      <td>Have a general question?  Want to offer some c...</td>\n",
       "      <td>0.86</td>\n",
       "      <td>22.0</td>\n",
       "      <td>0.0</td>\n",
       "      <td>22.0</td>\n",
       "      <td>[FAQ]</td>\n",
       "    </tr>\n",
       "  </tbody>\n",
       "</table>\n",
       "</div>"
      ],
      "text/plain": [
       "          id   created_utc  subreddit  \\\n",
       "0  t3_wg6ntw  1.659633e+09  investing   \n",
       "1  t3_wg6bl9  1.659632e+09  investing   \n",
       "2  t3_wg29p4  1.659622e+09  investing   \n",
       "3  t3_wg0os3  1.659618e+09  investing   \n",
       "4  t3_wfw9yh  1.659604e+09  investing   \n",
       "\n",
       "                                               title  \\\n",
       "0   Is this the end of the traditional stock market?   \n",
       "1      NERV is going nuts. Are my options worthless?   \n",
       "2                      Earnings boost Toronto stocks   \n",
       "3                          Convertible bond and nuke   \n",
       "4  Daily General Discussion and Advice Thread - A...   \n",
       "\n",
       "                                            selftext  upvote_ratio   ups  \\\n",
       "0  Please consider the following points from a pe...          0.37   0.0   \n",
       "1  What happens to options when they are no longe...          0.50   0.0   \n",
       "2  [https://www.reuters.com/markets/stocks/tsx-fu...          0.81  82.0   \n",
       "3  Can someone please explain to me what this “nu...          0.85  41.0   \n",
       "4  Have a general question?  Want to offer some c...          0.86  22.0   \n",
       "\n",
       "   downs  score                                      organizations  \n",
       "0    0.0    0.0                                                 []  \n",
       "1    0.0    0.0                      [Minerva Neurosciences, NERV]  \n",
       "2    0.0   82.0  [Canadian Natural Resources, the Toronto Stock...  \n",
       "3    0.0   41.0                                                 []  \n",
       "4    0.0   22.0                                              [FAQ]  "
      ]
     },
     "execution_count": 5,
     "metadata": {},
     "output_type": "execute_result"
    }
   ],
   "source": [
    "df['organizations'] = df['selftext'].apply(get_orgs)\n",
    "df.head()"
   ]
  },
  {
   "cell_type": "markdown",
   "metadata": {},
   "source": [
    "*(This step can take a long time to run. It can be useful to break larger datasets into more manageable chunks if required)*\n",
    "\n",
    "Now we have a list of all mentioned organizations contained within the `organizations` column. We will now take the full column, merge each list, and use `Counter` to create a frequency table of organization mentions."
   ]
  },
  {
   "cell_type": "code",
   "execution_count": 6,
   "metadata": {},
   "outputs": [
    {
     "data": {
      "text/plain": [
       "['Minerva Neurosciences',\n",
       " 'NERV',\n",
       " 'Canadian Natural Resources',\n",
       " \"the Toronto Stock Exchange's\",\n",
       " 'Bombardier',\n",
       " '.GSPTSE)**](https://www.reuters.com/quote/.GSPTSE',\n",
       " 'Reuters',\n",
       " 'FAQ',\n",
       " 'EPS',\n",
       " 'LOC']"
      ]
     },
     "execution_count": 6,
     "metadata": {},
     "output_type": "execute_result"
    }
   ],
   "source": [
    "# merge organizations column into one big list\n",
    "orgs = df['organizations'].to_list()\n",
    "orgs = [org for sublist in orgs for org in sublist]\n",
    "orgs[:10]"
   ]
  },
  {
   "cell_type": "code",
   "execution_count": 7,
   "metadata": {},
   "outputs": [],
   "source": [
    "from collections import Counter"
   ]
  },
  {
   "cell_type": "code",
   "execution_count": 8,
   "metadata": {},
   "outputs": [],
   "source": [
    "# create dictionary of organization mention frequency\n",
    "org_freq = Counter(orgs)"
   ]
  },
  {
   "cell_type": "markdown",
   "metadata": {},
   "source": [
    "We now have a *Counter* dictionary containing all of our organization labels as *keys*, and their mention frequency as *values*. The `most_common(n)` method allows us to view the **n** most frequently mentioned organizations:"
   ]
  },
  {
   "cell_type": "code",
   "execution_count": 9,
   "metadata": {},
   "outputs": [
    {
     "data": {
      "text/plain": [
       "[('FAQ', 70),\n",
       " ('ETF', 52),\n",
       " ('Fed', 40),\n",
       " ('Reuters', 19),\n",
       " ('VOO', 17),\n",
       " ('Treasury', 13),\n",
       " ('DCA', 13),\n",
       " ('EPS', 12),\n",
       " ('Amazon', 12),\n",
       " ('treasury', 12)]"
      ]
     },
     "execution_count": 9,
     "metadata": {},
     "output_type": "execute_result"
    }
   ],
   "source": [
    "org_freq.most_common(10)"
   ]
  },
  {
   "cell_type": "markdown",
   "metadata": {},
   "source": [
    "Clearly there is a need to do some further pruning of the data to remove non-organization labels like *EV* (electric vehicle), *COVID*, *ETF* (exchange trading fund), *NYSE*, and *SPAC* (special acquisition company). Depending on the use-case it may even be useful to keep a few of these, or remove a few others like *SEC* and *FDA*.\n",
    "\n",
    "To do this, we would create a custom list and implement it in our `get_orgs` function like so:"
   ]
  },
  {
   "cell_type": "code",
   "execution_count": 10,
   "metadata": {},
   "outputs": [],
   "source": [
    "BLACKLIST = ['ev', 'covid', 'etf', 'nyse', 'sec', 'spac', 'fda']\n",
    "BLACKLIST += [\"faq\", ]\n",
    "\n",
    "def get_orgs(text):\n",
    "    doc = nlp(text)\n",
    "    org_list = []\n",
    "    for entity in doc.ents:\n",
    "        # here we modify the original code to check that entity text is not equal to one of our 'blacklisted' organizations\n",
    "        # (we also add .lower() to lowercase the text, this allows us to match both 'nyse' and 'NYSE' with just 'nyse')\n",
    "        if entity.label_ == 'ORG' and entity.text.lower() not in BLACKLIST:\n",
    "            org_list.append(entity.text)\n",
    "    # if organization is identified more than once it will appear multiple times in list\n",
    "    # we use set() to remove duplicates then convert back to list\n",
    "    org_list = list(set(org_list))\n",
    "    return org_list"
   ]
  },
  {
   "cell_type": "markdown",
   "metadata": {},
   "source": [
    "If we then apply this new `get_org` function to our dataframe we will see that *ETF* that originally appeared alongside *ARK* in the second row is no longer included:"
   ]
  },
  {
   "cell_type": "code",
   "execution_count": 11,
   "metadata": {},
   "outputs": [
    {
     "data": {
      "text/html": [
       "<div>\n",
       "<style scoped>\n",
       "    .dataframe tbody tr th:only-of-type {\n",
       "        vertical-align: middle;\n",
       "    }\n",
       "\n",
       "    .dataframe tbody tr th {\n",
       "        vertical-align: top;\n",
       "    }\n",
       "\n",
       "    .dataframe thead th {\n",
       "        text-align: right;\n",
       "    }\n",
       "</style>\n",
       "<table border=\"1\" class=\"dataframe\">\n",
       "  <thead>\n",
       "    <tr style=\"text-align: right;\">\n",
       "      <th></th>\n",
       "      <th>id</th>\n",
       "      <th>created_utc</th>\n",
       "      <th>subreddit</th>\n",
       "      <th>title</th>\n",
       "      <th>selftext</th>\n",
       "      <th>upvote_ratio</th>\n",
       "      <th>ups</th>\n",
       "      <th>downs</th>\n",
       "      <th>score</th>\n",
       "      <th>organizations</th>\n",
       "    </tr>\n",
       "  </thead>\n",
       "  <tbody>\n",
       "    <tr>\n",
       "      <th>0</th>\n",
       "      <td>t3_wg6ntw</td>\n",
       "      <td>1.659633e+09</td>\n",
       "      <td>investing</td>\n",
       "      <td>Is this the end of the traditional stock market?</td>\n",
       "      <td>Please consider the following points from a pe...</td>\n",
       "      <td>0.37</td>\n",
       "      <td>0.0</td>\n",
       "      <td>0.0</td>\n",
       "      <td>0.0</td>\n",
       "      <td>[]</td>\n",
       "    </tr>\n",
       "    <tr>\n",
       "      <th>1</th>\n",
       "      <td>t3_wg6bl9</td>\n",
       "      <td>1.659632e+09</td>\n",
       "      <td>investing</td>\n",
       "      <td>NERV is going nuts. Are my options worthless?</td>\n",
       "      <td>What happens to options when they are no longe...</td>\n",
       "      <td>0.50</td>\n",
       "      <td>0.0</td>\n",
       "      <td>0.0</td>\n",
       "      <td>0.0</td>\n",
       "      <td>[Minerva Neurosciences, NERV]</td>\n",
       "    </tr>\n",
       "    <tr>\n",
       "      <th>2</th>\n",
       "      <td>t3_wg29p4</td>\n",
       "      <td>1.659622e+09</td>\n",
       "      <td>investing</td>\n",
       "      <td>Earnings boost Toronto stocks</td>\n",
       "      <td>[https://www.reuters.com/markets/stocks/tsx-fu...</td>\n",
       "      <td>0.81</td>\n",
       "      <td>82.0</td>\n",
       "      <td>0.0</td>\n",
       "      <td>82.0</td>\n",
       "      <td>[Canadian Natural Resources, the Toronto Stock...</td>\n",
       "    </tr>\n",
       "    <tr>\n",
       "      <th>3</th>\n",
       "      <td>t3_wg0os3</td>\n",
       "      <td>1.659618e+09</td>\n",
       "      <td>investing</td>\n",
       "      <td>Convertible bond and nuke</td>\n",
       "      <td>Can someone please explain to me what this “nu...</td>\n",
       "      <td>0.85</td>\n",
       "      <td>41.0</td>\n",
       "      <td>0.0</td>\n",
       "      <td>41.0</td>\n",
       "      <td>[]</td>\n",
       "    </tr>\n",
       "    <tr>\n",
       "      <th>4</th>\n",
       "      <td>t3_wfw9yh</td>\n",
       "      <td>1.659604e+09</td>\n",
       "      <td>investing</td>\n",
       "      <td>Daily General Discussion and Advice Thread - A...</td>\n",
       "      <td>Have a general question?  Want to offer some c...</td>\n",
       "      <td>0.86</td>\n",
       "      <td>22.0</td>\n",
       "      <td>0.0</td>\n",
       "      <td>22.0</td>\n",
       "      <td>[]</td>\n",
       "    </tr>\n",
       "  </tbody>\n",
       "</table>\n",
       "</div>"
      ],
      "text/plain": [
       "          id   created_utc  subreddit  \\\n",
       "0  t3_wg6ntw  1.659633e+09  investing   \n",
       "1  t3_wg6bl9  1.659632e+09  investing   \n",
       "2  t3_wg29p4  1.659622e+09  investing   \n",
       "3  t3_wg0os3  1.659618e+09  investing   \n",
       "4  t3_wfw9yh  1.659604e+09  investing   \n",
       "\n",
       "                                               title  \\\n",
       "0   Is this the end of the traditional stock market?   \n",
       "1      NERV is going nuts. Are my options worthless?   \n",
       "2                      Earnings boost Toronto stocks   \n",
       "3                          Convertible bond and nuke   \n",
       "4  Daily General Discussion and Advice Thread - A...   \n",
       "\n",
       "                                            selftext  upvote_ratio   ups  \\\n",
       "0  Please consider the following points from a pe...          0.37   0.0   \n",
       "1  What happens to options when they are no longe...          0.50   0.0   \n",
       "2  [https://www.reuters.com/markets/stocks/tsx-fu...          0.81  82.0   \n",
       "3  Can someone please explain to me what this “nu...          0.85  41.0   \n",
       "4  Have a general question?  Want to offer some c...          0.86  22.0   \n",
       "\n",
       "   downs  score                                      organizations  \n",
       "0    0.0    0.0                                                 []  \n",
       "1    0.0    0.0                      [Minerva Neurosciences, NERV]  \n",
       "2    0.0   82.0  [Canadian Natural Resources, the Toronto Stock...  \n",
       "3    0.0   41.0                                                 []  \n",
       "4    0.0   22.0                                                 []  "
      ]
     },
     "execution_count": 11,
     "metadata": {},
     "output_type": "execute_result"
    }
   ],
   "source": [
    "df['organizations'] = df['selftext'].apply(get_orgs)\n",
    "df.head()"
   ]
  },
  {
   "cell_type": "markdown",
   "metadata": {},
   "source": [
    "We can save our dataframe with the new *organizations* column to file for later use."
   ]
  },
  {
   "cell_type": "code",
   "execution_count": 12,
   "metadata": {},
   "outputs": [],
   "source": [
    "df.to_csv('./data/processed/reddit_investing_ner.csv', sep='|', index=False)"
   ]
  },
  {
   "cell_type": "code",
   "execution_count": null,
   "metadata": {},
   "outputs": [],
   "source": []
  }
 ],
 "metadata": {
  "kernelspec": {
   "display_name": "Python 3 (ipykernel)",
   "language": "python",
   "name": "python3"
  },
  "language_info": {
   "codemirror_mode": {
    "name": "ipython",
    "version": 3
   },
   "file_extension": ".py",
   "mimetype": "text/x-python",
   "name": "python",
   "nbconvert_exporter": "python",
   "pygments_lexer": "ipython3",
   "version": "3.7.9"
  }
 },
 "nbformat": 4,
 "nbformat_minor": 4
}
